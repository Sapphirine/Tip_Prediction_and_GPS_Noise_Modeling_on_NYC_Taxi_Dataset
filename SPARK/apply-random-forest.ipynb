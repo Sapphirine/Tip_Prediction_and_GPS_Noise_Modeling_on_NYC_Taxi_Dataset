{
 "cells": [
  {
   "cell_type": "code",
   "execution_count": 13,
   "metadata": {
    "collapsed": false
   },
   "outputs": [],
   "source": [
    "import sys\n",
    "import itertools\n",
    "from math import sqrt\n",
    "from operator import add\n",
    "from os.path import join, isfile, dirname\n",
    "import math\n",
    "from pyspark import SparkConf, SparkContext\n",
    "from pyspark.mllib.recommendation import ALS\n",
    "from pyspark.mllib.linalg import Vectors\n",
    "from pyspark.mllib.linalg import SparseVector\n",
    "from pyspark.mllib.clustering import LDA, LDAModel\n",
    "from sklearn.neighbors import NearestNeighbors\n",
    "from pyspark.mllib.tree import RandomForest, RandomForestModel\n",
    "from pyspark.mllib.util import MLUtils\n",
    "from pyspark.mllib.regression import LabeledPoint\n",
    "import textwrap\n",
    "from datetime import date, datetime\n",
    "import pyproj\n",
    "from math import cos, sin\n",
    "import matplotlib.pyplot as plt\n",
    "from pyspark.mllib.clustering import GaussianMixture, GaussianMixtureModel\n",
    "import numpy as np\n",
    "from pyspark.mllib.stat import MultivariateGaussian\n",
    "from pyspark.mllib.linalg import DenseMatrix\n",
    "from pyspark.mllib.evaluation import BinaryClassificationMetrics"
   ]
  },
  {
   "cell_type": "code",
   "execution_count": 2,
   "metadata": {
    "collapsed": false
   },
   "outputs": [
    {
     "data": {
      "text/plain": [
       "[u'0 VendorID',\n",
       " u'1 tpep_pickup_datetime',\n",
       " u'2 tpep_dropoff_datetime',\n",
       " u'3 passenger_count',\n",
       " u'4 trip_distance',\n",
       " u'5 pickup_longitude',\n",
       " u'6 pickup_latitude',\n",
       " u'7 RatecodeID',\n",
       " u'8 store_and_fwd_flag',\n",
       " u'9 dropoff_longitude',\n",
       " u'10 dropoff_latitude',\n",
       " u'11 payment_type',\n",
       " u'12 fare_amount',\n",
       " u'13 extra',\n",
       " u'14 mta_tax',\n",
       " u'15 tip_amount',\n",
       " u'16 tolls_amount',\n",
       " u'17 improvement_surcharge',\n",
       " u'18 total_amount']"
      ]
     },
     "execution_count": 2,
     "metadata": {},
     "output_type": "execute_result"
    }
   ],
   "source": [
    "moment = sys.argv[1] # 'finished' # 'before' 'during'\n",
    "print(\"moment: \" + moment)\n",
    "#f = sc.textFile(\"file:///bgdt/yellow.2000000.csv\") # file:// for local files (default hdfs)\n",
    "#f = sc.textFile(\"gs://dataproc-97276f09-d220-4be8-9ace-dae0bcad2c57-us/test/yellow.1605.csv\") # file:// for local files (default hdfs)\n",
    "f = sc.textFile(\"gs://dataproc-97276f09-d220-4be8-9ace-dae0bcad2c57-us/test/yellow.20000.csv\")\n",
    "# 7575962 credit card trips\n",
    "#f = sc.textFile(\"file:///bgdt/yellow.50000.csv\")\n",
    "#f = sc.textFile(\"file:///bgdt/yellow.csv\")\n",
    "header = f.first()\n",
    "[ str(i) + ' ' + x for i, x in enumerate(header.split(\",\")) ]"
   ]
  },
  {
   "cell_type": "code",
   "execution_count": 3,
   "metadata": {
    "collapsed": false
   },
   "outputs": [
    {
     "data": {
      "text/plain": [
       "[{'da': 40.730098724365234,\n",
       "  'do': -73.9839859008789,\n",
       "  'dst': 3.6,\n",
       "  'ex': 0.5,\n",
       "  'fare': 15.0,\n",
       "  'isHighHpay': 0,\n",
       "  'isWeekend': 1,\n",
       "  'len': 17,\n",
       "  'pa': 40.76803970336914,\n",
       "  'ph': 0,\n",
       "  'po': -73.98590087890625,\n",
       "  'px': 1991.9836131976917,\n",
       "  'py': 9282.009793342091,\n",
       "  'toll': 0.0}]"
      ]
     },
     "execution_count": 3,
     "metadata": {},
     "output_type": "execute_result"
    }
   ],
   "source": [
    "# def hour2ts(h):\n",
    "#     if h in {}:\n",
    "        \n",
    "#     elif\n",
    "\n",
    "dtf = \"%Y-%m-%d %H:%M:%S\"  # date format\n",
    "\n",
    "def defineProj():\n",
    "    return( pyproj.Proj(\"+init=epsg:2908 +ellps=WGS84 +datum=WGS84 +proj=utm\") )\n",
    "\n",
    "# theta, xoffset, yoffset are decided by seeing figures\n",
    "def rotateManhattanY(latm, lonm, theta=-0.496, yoffset=4239000):\n",
    "    lonm, latm = defineProj()(lonm, latm)\n",
    "    return( cos(theta)*latm - sin(theta)*lonm - yoffset )\n",
    "\n",
    "def rotateManhattanX(latm, lonm, theta=-0.496, xoffset=-1635000):\n",
    "    lonm, latm = defineProj()(lonm, latm)\n",
    "    return( sin(theta)*latm + cos(theta)*lonm - xoffset )\n",
    "\n",
    "def inUWS(x, y):\n",
    "    return(  955 < x and x < 2283 and\n",
    "            9443 < y and y < 15003 )\n",
    "\n",
    "def inUpperTimesSquare(x, y):\n",
    "    return( 1500 < x and x < 4350 and\n",
    "            8000 < y and y < 9500 )\n",
    "\n",
    "def in14smallStreets(x, y):\n",
    "    return( 2900 < x and x < 3100 and\n",
    "            8125 < y and y < 9225 )\n",
    "\n",
    "# translation bounds From: http://www.spatialreference.org/ref/epsg/2908/\n",
    "\n",
    "univ = f.filter(lambda x: x != header)\\\n",
    ".map(lambda l: l.split(\",\"))\\\n",
    ".map(lambda c:\n",
    "     {        'pt': c[ 1],\n",
    "       'isWeekend': int(datetime.strptime(c[1],dtf).isoweekday()>5),\n",
    "                    # isoweekday() returns Monday as 1, Sundey as 7\n",
    "              'ph': datetime.strptime(c[1],dtf).hour//2,\n",
    "              'dt': c[ 2],\n",
    "             'len': (datetime.strptime(c[2],dtf) -\n",
    "                     datetime.strptime(c[1],dtf)).seconds // 60,\n",
    "                    # actual trip duration in minutes\n",
    "             'dst': float(c[ 4]),\n",
    "              'po': float(c[ 5]),\n",
    "              'pa': float(c[ 6]),\n",
    "              'do': float(c[ 9]),\n",
    "              'da': float(c[10]),\n",
    "               '$': c[11], # payment type: 1 is credit card (tip recorded)\n",
    "            'fare': float(c[12]),\n",
    "              'ex': float(c[13]),\n",
    "             'tip': float(c[15]),\n",
    "            'toll': float(c[16]),\n",
    "      })\\\n",
    ".filter(lambda x: x['$'] == '1' )\\\n",
    ".filter(lambda x: x['len'] >= 2 and x['len'] <= 120 )\\\n",
    ".filter(lambda x:  40.4700 < x['pa'] and x['pa'] <  41.3100 and\n",
    "                  -74.2700 < x['po'] and x['po'] < -71.7500 and\n",
    "                   x['po'] != 0 and x['pa'] != 0 )\\\n",
    ".map(lambda c:\n",
    "     { 'isWeekend': c['isWeekend'],\n",
    "              'ph': c['ph'],\n",
    "             'len': c['len'],\n",
    "      'isHighHpay': int((c['tip']*60/c['len'])>=12),\n",
    "             'dst': c['dst'],\n",
    "              'po': c['po'],\n",
    "              'pa': c['pa'],\n",
    "              'px': rotateManhattanX(c['pa'], c['po']),\n",
    "              'py': rotateManhattanY(c['pa'], c['po']),\n",
    "              'do': c['do'],\n",
    "              'da': c['da'],\n",
    "            'fare': c['fare'],\n",
    "              'ex': c['ex'],\n",
    "            'toll': c['toll']\n",
    "      })\\\n",
    ".cache()\n",
    "\n",
    "# can insert before .cache()\n",
    "\n",
    "# .filter(lambda x: inUWS(x['px'], x['py']) )\\\n",
    "# .filter(lambda x: inUpperTimesSquare(x['px'], x['py']) )\\\n",
    "\n",
    "univ.take(1)"
   ]
  },
  {
   "cell_type": "code",
   "execution_count": 5,
   "metadata": {
    "collapsed": false
   },
   "outputs": [
    {
     "name": "stdout",
     "output_type": "stream",
     "text": [
      "random forest\n"
     ]
    }
   ],
   "source": [
    "#exemode = sys.argv[1]\n",
    "exemode = 'rf'\n",
    "if exemode == 'rf': # random forest\n",
    "    print(\"random forest\")\n",
    "    master = univ.filter(lambda x: inUpperTimesSquare(x['px'], x['py']) )\n",
    "    #nrCards = univ.count()\n",
    "    #print(\"%d credit card trips\" % (nrCards) )\n",
    "else:\n",
    "    print(\"mixture gaussian model\")\n",
    "    master = univ.filter(lambda x: in14smallStreets(x['px'], x['py']) )\n",
    "    print(\"  number of rows: \" + str(master.count()))\n"
   ]
  },
  {
   "cell_type": "code",
   "execution_count": 6,
   "metadata": {
    "collapsed": false
   },
   "outputs": [
    {
     "name": "stdout",
     "output_type": "stream",
     "text": [
      "use finished\n",
      "('  training RDD:', [LabeledPoint(0.0, [1.0,-73.9792938232,40.7557640076,0.0,0.5,0.63,0.0,5.0,5.0,-73.9880142212,40.7584686279])])\n",
      "('validation RDD:', [DenseVector([1.0, -73.9898, 40.7622, 0.0, 0.5, 0.6, 0.0, 4.5, 3.0, -73.9793, 40.7621])])\n"
     ]
    }
   ],
   "source": [
    "#preped = univ.map(lambda l: (l['dst'], l['tip']) )\n",
    "\n",
    "if exemode == 'rf':\n",
    "    if moment == 'before': \n",
    "        print(\"use before\")\n",
    "        preped = master.map(lambda l:\n",
    "                          LabeledPoint(l['isHighHpay'],\n",
    "                                       [l['isWeekend'], l['po'], l['pa'], l['ph'], l['ex']]))\n",
    "    elif moment == 'during':\n",
    "        print(\"use during\")\n",
    "        preped = master.map(lambda l:\n",
    "                          LabeledPoint(l['isHighHpay'],\n",
    "                                       [l['isWeekend'], l['po'], l['pa'], l['ph'], l['ex'],\n",
    "                                        l['dst'], l['toll']\n",
    "                                       ]))\n",
    "    else:\n",
    "        print(\"use finished\")\n",
    "        preped = master.map(lambda l:\n",
    "                          LabeledPoint(l['isHighHpay'],\n",
    "                                       [l['isWeekend'], l['po'], l['pa'], l['ph'], l['ex'],\n",
    "                                        l['dst'], l['toll'],\n",
    "                                        l['fare'], l['len'], l['do'], l['da']\n",
    "                                       ]))\n",
    "    preped.take(1)\n",
    "    \n",
    "    trRDD, vaRDD, teRDD = preped.randomSplit([6,2,2], seed=0L)\n",
    "    print(\"  training RDD:\", trRDD.take(1))\n",
    "    print(\"validation RDD:\", vaRDD.map(lambda x: x.features ).take(1))"
   ]
  },
  {
   "cell_type": "code",
   "execution_count": 7,
   "metadata": {
    "collapsed": false
   },
   "outputs": [
    {
     "name": "stdout",
     "output_type": "stream",
     "text": [
      "model saved\n",
      "Test Accuracy = 76.668180 percent\n"
     ]
    }
   ],
   "source": [
    "if exemode == 'rf':\n",
    "    model = RandomForest.trainClassifier(trRDD, numClasses=2,\n",
    "                                         categoricalFeaturesInfo = {},\n",
    "                                 numTrees=5, featureSubsetStrategy=\"sqrt\",\n",
    "                                impurity=\"gini\", maxDepth=4, maxBins=32, seed = 1)\n",
    "    # gini is faster\n",
    "    model.save(sc, \"myRandomForestModel\")\n",
    "    print(\"model saved\")\n",
    "    preds = model.predict(vaRDD.map(lambda x: x.features ))\n",
    "    labelsAndPredictions = vaRDD.map(lambda lp: lp.label).zip(preds)\n",
    "    testErr = labelsAndPredictions.filter(lambda (v, p): v != p).count() / float(vaRDD.count())\n",
    "    print('Test Accuracy = %f percent' % (100-round(testErr,7)*100))\n",
    "    # print('Learned classification forest model:')\n",
    "    # print(model.toDebugString()) # messy\n",
    "    \n",
    "    # Note: for unfiltered data,\n",
    "    # 69 -before-> 72% -finish-> 75%\n",
    "else:\n",
    "    # we model 14 streets between 42st and 57st\n",
    "    model = GaussianMixture.train(pickup_locationRDD, k=14, convergenceTol=1e-1, seed=1234)\n",
    "    "
   ]
  },
  {
   "cell_type": "code",
   "execution_count": 11,
   "metadata": {
    "collapsed": false
   },
   "outputs": [],
   "source": [
    "if exemode == 'rf':\n",
    "    nActuNotHigh = labelsAndPredictions.filter(lambda lp: lp[0] == 0 ).count()\n",
    "    nActuHigh    = labelsAndPredictions.filter(lambda lp: lp[0] == 1 ).count()\n",
    "    nPredNotHigh = labelsAndPredictions.filter(lambda lp: lp[1] == 0 ).count()\n",
    "    nPredHigh    = labelsAndPredictions.filter(lambda lp: lp[1] == 1 ).count()\n",
    "    nA0P0 = labelsAndPredictions.filter(lambda lp: lp[0] == 0 and lp[1] == 0 ).count()\n",
    "    nA1P1 = labelsAndPredictions.filter(lambda lp: lp[0] == 1 and lp[1] == 1 ).count()\n",
    "    nA0P1 = labelsAndPredictions.filter(lambda lp: lp[0] == 0 and lp[1] == 1 ).count()\n",
    "    nA1P0 = labelsAndPredictions.filter(lambda lp: lp[0] == 1 and lp[1] == 0 ).count()\n",
    "else:\n",
    "    print(model.gaussians)"
   ]
  },
  {
   "cell_type": "code",
   "execution_count": 14,
   "metadata": {
    "collapsed": false
   },
   "outputs": [
    {
     "name": "stdout",
     "output_type": "stream",
     "text": [
      "Area under PR = 0.790012148162\n",
      "Area under ROC = 0.770549867642\n"
     ]
    }
   ],
   "source": [
    "# Instantiate metrics object\n",
    "metrics = BinaryClassificationMetrics(labelsAndPredictions)\n",
    "\n",
    "# Area under precision-recall curve\n",
    "print(\"Area under PR = %s\" % metrics.areaUnderPR)\n",
    "\n",
    "# Area under ROC curve\n",
    "print(\"Area under ROC = %s\" % metrics.areaUnderROC)"
   ]
  },
  {
   "cell_type": "code",
   "execution_count": 20,
   "metadata": {
    "collapsed": false
   },
   "outputs": [
    {
     "name": "stdout",
     "output_type": "stream",
     "text": [
      "precision: 0.7962 recall : 0.6973  F1: 0.7435\n"
     ]
    }
   ],
   "source": [
    "precision = float(nA1P1) /float(nA1P1 + nA0P1)         # TP / (TP + FP)\n",
    "recall = float(nA1P1) / float(nA1P1 + nA1P0) # TP / (TP + FN)\n",
    "F1 = 2 * float(nA1P1) / float(2 * nA1P1 + nA0P1 + nA1P0)    \n",
    "print(\"precision: %.4f recall : %.4f  F1: %.4f\" % (precision, recall, F1) )"
   ]
  }
 ],
 "metadata": {
  "kernelspec": {
   "display_name": "Python 2",
   "language": "python",
   "name": "python2"
  },
  "language_info": {
   "codemirror_mode": {
    "name": "ipython",
    "version": 2
   },
   "file_extension": ".py",
   "mimetype": "text/x-python",
   "name": "python",
   "nbconvert_exporter": "python",
   "pygments_lexer": "ipython2",
   "version": "2.7.9"
  }
 },
 "nbformat": 4,
 "nbformat_minor": 2
}
