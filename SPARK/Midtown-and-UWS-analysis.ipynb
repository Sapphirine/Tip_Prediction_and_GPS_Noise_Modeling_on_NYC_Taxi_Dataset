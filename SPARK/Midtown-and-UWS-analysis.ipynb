{
 "cells": [
  {
   "cell_type": "code",
   "execution_count": 22,
   "metadata": {
    "collapsed": false
   },
   "outputs": [],
   "source": [
    "import sys\n",
    "import itertools\n",
    "from math import sqrt\n",
    "from operator import add\n",
    "from os.path import join, isfile, dirname\n",
    "import math\n",
    "from pyspark import SparkConf, SparkContext\n",
    "from pyspark.mllib.recommendation import ALS\n",
    "from pyspark.mllib.linalg import Vectors\n",
    "from pyspark.mllib.linalg import SparseVector\n",
    "from pyspark.mllib.clustering import LDA, LDAModel\n",
    "from sklearn.neighbors import NearestNeighbors\n",
    "from pyspark.mllib.tree import RandomForest, RandomForestModel\n",
    "from pyspark.mllib.util import MLUtils\n",
    "from pyspark.mllib.regression import LabeledPoint\n",
    "import textwrap\n",
    "from datetime import date, datetime\n",
    "import pyproj\n",
    "from math import cos, sin\n",
    "import matplotlib.pyplot as plt\n",
    "from pyspark.mllib.clustering import GaussianMixture, GaussianMixtureModel\n",
    "import numpy as np\n",
    "from pyspark.mllib.stat import MultivariateGaussian\n",
    "from pyspark.mllib.linalg import DenseMatrix"
   ]
  },
  {
   "cell_type": "code",
   "execution_count": 23,
   "metadata": {
    "collapsed": false
   },
   "outputs": [
    {
     "data": {
      "text/plain": [
       "[u'0 VendorID',\n",
       " u'1 tpep_pickup_datetime',\n",
       " u'2 tpep_dropoff_datetime',\n",
       " u'3 passenger_count',\n",
       " u'4 trip_distance',\n",
       " u'5 pickup_longitude',\n",
       " u'6 pickup_latitude',\n",
       " u'7 RatecodeID',\n",
       " u'8 store_and_fwd_flag',\n",
       " u'9 dropoff_longitude',\n",
       " u'10 dropoff_latitude',\n",
       " u'11 payment_type',\n",
       " u'12 fare_amount',\n",
       " u'13 extra',\n",
       " u'14 mta_tax',\n",
       " u'15 tip_amount',\n",
       " u'16 tolls_amount',\n",
       " u'17 improvement_surcharge',\n",
       " u'18 total_amount']"
      ]
     },
     "execution_count": 23,
     "metadata": {},
     "output_type": "execute_result"
    }
   ],
   "source": [
    "#f = sc.textFile(\"file:///bgdt/yellow.2000000.csv\") # file:// for local files (default hdfs)\n",
    "f = sc.textFile(\"gs://dataproc-97276f09-d220-4be8-9ace-dae0bcad2c57-us/test/yellow.1605.csv\") # file:// for local files (default hdfs)\n",
    "# 7575962 credit card trips\n",
    "#f = sc.textFile(\"file:///bgdt/yellow.50000.csv\")\n",
    "#f = sc.textFile(\"file:///bgdt/yellow.csv\")\n",
    "header = f.first()\n",
    "[ str(i) + ' ' + x for i, x in enumerate(header.split(\",\")) ]"
   ]
  },
  {
   "cell_type": "code",
   "execution_count": 25,
   "metadata": {
    "collapsed": false
   },
   "outputs": [
    {
     "data": {
      "text/plain": [
       "[{'da': 40.730098724365234,\n",
       "  'do': -73.9839859008789,\n",
       "  'dst': 3.6,\n",
       "  'ex': 0.5,\n",
       "  'fare': 15.0,\n",
       "  'isHighHpay': 0,\n",
       "  'isWeekend': 1,\n",
       "  'len': 17,\n",
       "  'pa': 40.76803970336914,\n",
       "  'ph': 0,\n",
       "  'po': -73.98590087890625,\n",
       "  'px': 1991.9836131976917,\n",
       "  'py': 9282.009793342091,\n",
       "  'toll': 0.0}]"
      ]
     },
     "execution_count": 25,
     "metadata": {},
     "output_type": "execute_result"
    }
   ],
   "source": [
    "# def hour2ts(h):\n",
    "#     if h in {}:\n",
    "        \n",
    "#     elif\n",
    "\n",
    "dtf = \"%Y-%m-%d %H:%M:%S\"  # date format\n",
    "\n",
    "def defineProj():\n",
    "    return( pyproj.Proj(\"+init=epsg:2908 +ellps=WGS84 +datum=WGS84 +proj=utm\") )\n",
    "\n",
    "# theta, xoffset, yoffset are decided by seeing figures\n",
    "def rotateManhattanY(latm, lonm, theta=-0.496, yoffset=4239000):\n",
    "    lonm, latm = defineProj()(lonm, latm)\n",
    "    return( cos(theta)*latm - sin(theta)*lonm - yoffset )\n",
    "\n",
    "def rotateManhattanX(latm, lonm, theta=-0.496, xoffset=-1635000):\n",
    "    lonm, latm = defineProj()(lonm, latm)\n",
    "    return( sin(theta)*latm + cos(theta)*lonm - xoffset )\n",
    "\n",
    "def inUWS(x, y):\n",
    "    return(  955 < x and x < 2283 and\n",
    "            9443 < y and y < 15003 )\n",
    "\n",
    "def inUpperTimesSquare(x, y):\n",
    "    return( 1500 < x and x < 4350 and\n",
    "            8000 < y and y < 9500 )\n",
    "\n",
    "def in14smallStreets(x, y):\n",
    "    return( 2900 < x and x < 3100 and\n",
    "            8125 < y and y < 9225 )\n",
    "\n",
    "# translation bounds From: http://www.spatialreference.org/ref/epsg/2908/\n",
    "\n",
    "univ = f.filter(lambda x: x != header)\\\n",
    ".map(lambda l: l.split(\",\"))\\\n",
    ".map(lambda c:\n",
    "     {        'pt': c[ 1],\n",
    "       'isWeekend': int(datetime.strptime(c[1],dtf).isoweekday()>5),\n",
    "                    # isoweekday() returns Monday as 1, Sundey as 7\n",
    "              'ph': datetime.strptime(c[1],dtf).hour//2,\n",
    "              'dt': c[ 2],\n",
    "             'len': (datetime.strptime(c[2],dtf) -\n",
    "                     datetime.strptime(c[1],dtf)).seconds // 60,\n",
    "                    # actual trip duration in minutes\n",
    "             'dst': float(c[ 4]),\n",
    "              'po': float(c[ 5]),\n",
    "              'pa': float(c[ 6]),\n",
    "              'do': float(c[ 9]),\n",
    "              'da': float(c[10]),\n",
    "               '$': c[11], # payment type: 1 is credit card (tip recorded)\n",
    "            'fare': float(c[12]),\n",
    "              'ex': float(c[13]),\n",
    "             'tip': float(c[15]),\n",
    "            'toll': float(c[16]),\n",
    "      })\\\n",
    ".filter(lambda x: x['$'] == '1' )\\\n",
    ".filter(lambda x: x['len'] >= 2 and x['len'] <= 120 )\\\n",
    ".filter(lambda x:  40.4700 < x['pa'] and x['pa'] <  41.3100 and\n",
    "                  -74.2700 < x['po'] and x['po'] < -71.7500 and\n",
    "                   x['po'] != 0 and x['pa'] != 0 )\\\n",
    ".map(lambda c:\n",
    "     { 'isWeekend': c['isWeekend'],\n",
    "              'ph': c['ph'],\n",
    "             'len': c['len'],\n",
    "      'isHighHpay': int((c['tip']*60/c['len'])>=12),\n",
    "             'dst': c['dst'],\n",
    "              'po': c['po'],\n",
    "              'pa': c['pa'],\n",
    "              'px': rotateManhattanX(c['pa'], c['po']),\n",
    "              'py': rotateManhattanY(c['pa'], c['po']),\n",
    "              'do': c['do'],\n",
    "              'da': c['da'],\n",
    "            'fare': c['fare'],\n",
    "              'ex': c['ex'],\n",
    "            'toll': c['toll']\n",
    "      })\\\n",
    ".cache()\n",
    "\n",
    "# can insert before .cache()\n",
    "\n",
    "# .filter(lambda x: inUWS(x['px'], x['py']) )\\\n",
    "# .filter(lambda x: inUpperTimesSquare(x['px'], x['py']) )\\\n",
    "\n",
    "univ.take(1)"
   ]
  },
  {
   "cell_type": "code",
   "execution_count": 29,
   "metadata": {
    "collapsed": false
   },
   "outputs": [
    {
     "name": "stdout",
     "output_type": "stream",
     "text": [
      "random forest\n",
      "7575962 credit card trips\n"
     ]
    }
   ],
   "source": [
    "#exemode = sys.argv[1]\n",
    "exemode = 'rf'\n",
    "if exemode == 'rf': # random forest\n",
    "    print(\"random forest\")\n",
    "    master = univ.filter(lambda x: inUpperTimesSquare(x['px'], x['py']) )\n",
    "    #nrCards = univ.count()\n",
    "    print(\"%d credit card trips\" % (nrCards) )\n",
    "else:\n",
    "    print(\"mixture gaussian model\")\n",
    "    master = univ.filter(lambda x: in14smallStreets(x['px'], x['py']) )\n",
    "    print(\"  number of rows: \" + str(master.count()))\n"
   ]
  },
  {
   "cell_type": "code",
   "execution_count": 30,
   "metadata": {
    "collapsed": false
   },
   "outputs": [
    {
     "name": "stdout",
     "output_type": "stream",
     "text": [
      "use finished\n",
      "('  training RDD:', [LabeledPoint(0.0, [1.0,-73.9792938232,40.7557640076,0.0,0.5,0.63,0.0,5.0,5.0,-73.9880142212,40.7584686279])])\n",
      "('validation RDD:', [DenseVector([1.0, -73.9898, 40.7622, 0.0, 0.5, 0.6, 0.0, 4.5, 3.0, -73.9793, 40.7621])])\n"
     ]
    }
   ],
   "source": [
    "#preped = univ.map(lambda l: (l['dst'], l['tip']) )\n",
    "\n",
    "if exemode == 'rf':\n",
    "    moment = 'finished'\n",
    "    if moment == 'before': \n",
    "        print(\"use before\")\n",
    "        preped = master.map(lambda l:\n",
    "                          LabeledPoint(l['isHighHpay'],\n",
    "                                       [l['isWeekend'], l['po'], l['pa'], l['ph'], l['ex']]))\n",
    "    elif moment == 'during':\n",
    "        print(\"use during\")\n",
    "        preped = master.map(lambda l:\n",
    "                          LabeledPoint(l['isHighHpay'],\n",
    "                                       [l['isWeekend'], l['po'], l['pa'], l['ph'], l['ex'],\n",
    "                                        l['dst'], l['toll']\n",
    "                                       ]))\n",
    "    else:\n",
    "        print(\"use finished\")\n",
    "        preped = master.map(lambda l:\n",
    "                          LabeledPoint(l['isHighHpay'],\n",
    "                                       [l['isWeekend'], l['po'], l['pa'], l['ph'], l['ex'],\n",
    "                                        l['dst'], l['toll'],\n",
    "                                        l['fare'], l['len'], l['do'], l['da']\n",
    "                                       ]))\n",
    "    preped.take(1)\n",
    "    \n",
    "    trRDD, vaRDD, teRDD = preped.randomSplit([6,2,2], seed=0L)\n",
    "    print(\"  training RDD:\", trRDD.take(1))\n",
    "    print(\"validation RDD:\", vaRDD.map(lambda x: x.features ).take(1))"
   ]
  },
  {
   "cell_type": "code",
   "execution_count": 31,
   "metadata": {
    "collapsed": false
   },
   "outputs": [],
   "source": [
    "if exemode != 'rf':\n",
    "    pickup_locationRDD = master.map(lambda l: Vectors.dense(l['py']))\n",
    "    print(pickup_locationRDD.take(1))"
   ]
  },
  {
   "cell_type": "code",
   "execution_count": 32,
   "metadata": {
    "collapsed": false
   },
   "outputs": [
    {
     "ename": "NameError",
     "evalue": "name 'pickup_locationRDD' is not defined",
     "output_type": "error",
     "traceback": [
      "\u001b[0;31m---------------------------------------------------------------------------\u001b[0m",
      "\u001b[0;31mNameError\u001b[0m                                 Traceback (most recent call last)",
      "\u001b[0;32m<ipython-input-32-f3942d4fb98d>\u001b[0m in \u001b[0;36m<module>\u001b[0;34m()\u001b[0m\n\u001b[0;32m----> 1\u001b[0;31m \u001b[0minitModel\u001b[0m \u001b[0;34m=\u001b[0m \u001b[0mGaussianMixture\u001b[0m\u001b[0;34m.\u001b[0m\u001b[0mtrain\u001b[0m\u001b[0;34m(\u001b[0m\u001b[0mpickup_locationRDD\u001b[0m\u001b[0;34m,\u001b[0m \u001b[0mk\u001b[0m\u001b[0;34m=\u001b[0m\u001b[0;36m14\u001b[0m\u001b[0;34m,\u001b[0m \u001b[0mconvergenceTol\u001b[0m\u001b[0;34m=\u001b[0m\u001b[0;36m1e+5\u001b[0m\u001b[0;34m,\u001b[0m \u001b[0mseed\u001b[0m\u001b[0;34m=\u001b[0m\u001b[0;36m1234\u001b[0m\u001b[0;34m)\u001b[0m\u001b[0;34m\u001b[0m\u001b[0m\n\u001b[0m\u001b[1;32m      2\u001b[0m \u001b[0minitModel\u001b[0m\u001b[0;34m\u001b[0m\u001b[0m\n",
      "\u001b[0;31mNameError\u001b[0m: name 'pickup_locationRDD' is not defined"
     ]
    }
   ],
   "source": [
    "initModel = GaussianMixture.train(pickup_locationRDD, k=14, convergenceTol=1e+5, seed=1234)\n",
    "initModel"
   ]
  },
  {
   "cell_type": "code",
   "execution_count": 114,
   "metadata": {
    "collapsed": false
   },
   "outputs": [
    {
     "data": {
      "text/plain": [
       "[MultivariateGaussian(mu=DenseVector([8808.8344]), sigma=DenseMatrix(1, 1, [61848.7152], 0)),\n",
       " MultivariateGaussian(mu=DenseVector([8706.1932]), sigma=DenseMatrix(1, 1, [92596.5652], 0)),\n",
       " MultivariateGaussian(mu=DenseVector([8649.9059]), sigma=DenseMatrix(1, 1, [101729.2174], 0)),\n",
       " MultivariateGaussian(mu=DenseVector([8848.3886]), sigma=DenseMatrix(1, 1, [69281.7783], 0)),\n",
       " MultivariateGaussian(mu=DenseVector([8630.0653]), sigma=DenseMatrix(1, 1, [102299.5305], 0)),\n",
       " MultivariateGaussian(mu=DenseVector([8824.2428]), sigma=DenseMatrix(1, 1, [67967.339], 0)),\n",
       " MultivariateGaussian(mu=DenseVector([8636.7486]), sigma=DenseMatrix(1, 1, [97175.0077], 0)),\n",
       " MultivariateGaussian(mu=DenseVector([8322.6781]), sigma=DenseMatrix(1, 1, [25504.2029], 0)),\n",
       " MultivariateGaussian(mu=DenseVector([8512.7717]), sigma=DenseMatrix(1, 1, [78264.9321], 0)),\n",
       " MultivariateGaussian(mu=DenseVector([8980.0908]), sigma=DenseMatrix(1, 1, [27235.833], 0)),\n",
       " MultivariateGaussian(mu=DenseVector([8562.7125]), sigma=DenseMatrix(1, 1, [78697.3173], 0)),\n",
       " MultivariateGaussian(mu=DenseVector([8586.0069]), sigma=DenseMatrix(1, 1, [96114.1543], 0)),\n",
       " MultivariateGaussian(mu=DenseVector([8734.9846]), sigma=DenseMatrix(1, 1, [76857.2568], 0)),\n",
       " MultivariateGaussian(mu=DenseVector([8805.3922]), sigma=DenseMatrix(1, 1, [64412.1243], 0))]"
      ]
     },
     "execution_count": 114,
     "metadata": {},
     "output_type": "execute_result"
    }
   ],
   "source": [
    "initModel.gaussians"
   ]
  },
  {
   "cell_type": "code",
   "execution_count": 96,
   "metadata": {
    "collapsed": false
   },
   "outputs": [],
   "source": [
    "for i in range(1,len(initModel.gaussians)):\n",
    "    initModel.gaussians[i].sigma.values = int(initModel.gaussians[0].sigma.values)\n",
    "#initModel.gaussians[1].sigma[3] = initModel.gaussians[1].sigma._replace(DenseMatrix(1, 1, [300], 0))\n",
    "#initModel.gaussians[1].sigma\n",
    "GaussianMixture."
   ]
  },
  {
   "cell_type": "code",
   "execution_count": 119,
   "metadata": {
    "collapsed": false
   },
   "outputs": [
    {
     "ename": "TypeError",
     "evalue": "_replace() takes exactly 1 argument (2 given)",
     "output_type": "error",
     "traceback": [
      "\u001b[0;31m\u001b[0m",
      "\u001b[0;31mTypeError\u001b[0mTraceback (most recent call last)",
      "\u001b[0;32m<ipython-input-119-a8859f905616>\u001b[0m in \u001b[0;36m<module>\u001b[0;34m()\u001b[0m\n\u001b[0;32m----> 1\u001b[0;31m \u001b[0minitModel\u001b[0m\u001b[0;34m.\u001b[0m\u001b[0mgaussians\u001b[0m\u001b[0;34m[\u001b[0m\u001b[0;36m1\u001b[0m\u001b[0;34m]\u001b[0m \u001b[0;34m=\u001b[0m \u001b[0minitModel\u001b[0m\u001b[0;34m.\u001b[0m\u001b[0mgaussians\u001b[0m\u001b[0;34m[\u001b[0m\u001b[0;36m1\u001b[0m\u001b[0;34m]\u001b[0m\u001b[0;34m.\u001b[0m\u001b[0m_replace\u001b[0m\u001b[0;34m(\u001b[0m\u001b[0mMultivariateGaussian\u001b[0m\u001b[0;34m(\u001b[0m\u001b[0mmu\u001b[0m\u001b[0;34m=\u001b[0m\u001b[0;36m1\u001b[0m\u001b[0;34m,\u001b[0m \u001b[0msigma\u001b[0m\u001b[0;34m=\u001b[0m\u001b[0;36m1\u001b[0m\u001b[0;34m)\u001b[0m\u001b[0;34m)\u001b[0m\u001b[0;34m\u001b[0m\u001b[0m\n\u001b[0m\u001b[1;32m      2\u001b[0m \u001b[0minitModel\u001b[0m\u001b[0;34m.\u001b[0m\u001b[0mgaussians\u001b[0m\u001b[0;34m[\u001b[0m\u001b[0;36m1\u001b[0m\u001b[0;34m]\u001b[0m\u001b[0;34m\u001b[0m\u001b[0m\n",
      "\u001b[0;31mTypeError\u001b[0m: _replace() takes exactly 1 argument (2 given)"
     ]
    }
   ],
   "source": [
    "initModel.gaussians[1] = initModel.gaussians[1]._replace(MultivariateGaussian(mu=1, sigma=1))\n",
    "initModel.gaussians[1]"
   ]
  },
  {
   "cell_type": "code",
   "execution_count": 108,
   "metadata": {
    "collapsed": false
   },
   "outputs": [
    {
     "name": "stdout",
     "output_type": "stream",
     "text": [
      "DenseMatrix([[ 1.]])\n",
      "\n"
     ]
    },
    {
     "data": {
      "text/plain": [
       "array([ 61848.71515456])"
      ]
     },
     "execution_count": 108,
     "metadata": {},
     "output_type": "execute_result"
    }
   ],
   "source": [
    "aaa = DenseMatrix(1,1,[1],0)\n",
    "print(aaa)\n",
    "aaa.values = [2]\n",
    "aaa\n",
    "initModel.gaussians[0].sigma.values = np.array([2])\n",
    "initModel.gaussians[0].sigma.values\n",
    "#np.array([2])"
   ]
  },
  {
   "cell_type": "code",
   "execution_count": 33,
   "metadata": {
    "collapsed": false
   },
   "outputs": [
    {
     "name": "stdout",
     "output_type": "stream",
     "text": [
      "model saved\n",
      "Test Accuracy = 76.668180 percent\n"
     ]
    }
   ],
   "source": [
    "if exemode == 'rf':\n",
    "    model = RandomForest.trainClassifier(trRDD, numClasses=2,\n",
    "                                         categoricalFeaturesInfo = {},\n",
    "                                 numTrees=5, featureSubsetStrategy=\"sqrt\",\n",
    "                                impurity=\"gini\", maxDepth=4, maxBins=32, seed = 1)\n",
    "    # gini is faster\n",
    "    model.save(sc, \"myRandomForestModel_old\")\n",
    "    print(\"model saved\")\n",
    "    preds = model.predict(vaRDD.map(lambda x: x.features ))\n",
    "    labelsAndPredictions = vaRDD.map(lambda lp: lp.label).zip(preds)\n",
    "    testErr = labelsAndPredictions.filter(lambda (v, p): v != p).count() / float(vaRDD.count())\n",
    "    print('Test Accuracy = %f percent' % (100-round(testErr,7)*100))\n",
    "    # print('Learned classification forest model:')\n",
    "    # print(model.toDebugString()) # messy\n",
    "    \n",
    "    # Note: for unfiltered data,\n",
    "    # 69 -before-> 72% -finish-> 75%\n",
    "else:\n",
    "    # we model 14 streets between 42st and 57st\n",
    "    model = GaussianMixture.train(pickup_locationRDD, k=14, convergenceTol=1e-1, seed=1234)\n",
    "    "
   ]
  },
  {
   "cell_type": "code",
   "execution_count": 34,
   "metadata": {
    "collapsed": false
   },
   "outputs": [
    {
     "name": "stdout",
     "output_type": "stream",
     "text": [
      "Baseline : 0.515122     \n",
      "Actual  0:    151301    1:    142418     \n",
      "Predict 0:    168997    1:    124722     \n"
     ]
    }
   ],
   "source": [
    "if exemode == 'rf':\n",
    "    nActuNotHigh = labelsAndPredictions.filter(lambda lp: lp[0] == 0 ).count()\n",
    "    nActuHigh    = labelsAndPredictions.filter(lambda lp: lp[0] == 1 ).count()\n",
    "    nPredNotHigh = labelsAndPredictions.filter(lambda lp: lp[1] == 0 ).count()\n",
    "    nPredHigh    = labelsAndPredictions.filter(lambda lp: lp[1] == 1 ).count()\n",
    "\n",
    "    print(\"Baseline : %f     \" % (float(max(nActuNotHigh,nActuHigh)) / float(nActuNotHigh+nActuHigh)))\n",
    "    print(\"Actual  0: %9d    1: %9d     \" % (nActuNotHigh, nActuHigh) )\n",
    "    print(\"Predict 0: %9d    1: %9d     \" % (nPredNotHigh, nPredHigh) )\n",
    "else:\n",
    "    print(model.gaussians)"
   ]
  },
  {
   "cell_type": "code",
   "execution_count": 256,
   "metadata": {
    "collapsed": false
   },
   "outputs": [],
   "source": [
    "\n",
    "# def rotateManhattanY(latm, lonm, theta=-0.496, yoffset=4239000):\n",
    "#     # theta, xoffset, yoffset are decided by seeing figures\n",
    "#     return([(cos(theta)*la - sin(theta)*lo - yoffset) for la,lo in zip(latm, lonm) ])\n",
    "# def rotateManhattanX(latm, lonm, theta=-0.496, xoffset=-1635000):\n",
    "#     return([(sin(theta)*la + cos(theta)*lo - xoffset)  for la,lo in zip(latm, lonm) ]) \n",
    "\n",
    "# MAYBE-LATER: currently it works but needs more explicit settings.\n",
    "# \n",
    "# p = pyproj.Proj(\"+init=epsg:2908 +ellps=WGS84 +datum=WGS84 +proj=utm\")\n",
    "\n",
    "\n",
    "\n",
    "# poms, pams = p([ x['po']   for x in dots[1:40000] ],\n",
    "#                [ x['pa']   for x in dots[1:40000] ])\n",
    "# print(\"pom, pam = (%f, %f)\" % (poms[0], pams[0]) )\n",
    "\n",
    "# px = rotateManhattanX(pams, poms, theta)\n",
    "# py = rotateManhattanY(pams, poms, theta)\n",
    "\n",
    "# print(\"px,py = (%f, %f)\" % (px[0], py[0]) )\n",
    "\n",
    "# plt.plot(dots[1:1000]['px'],dots[1:1000]['py'], 'ro', markersize=.5 )\n",
    "# plt.xlim(xmin=0, xmax=6000)\n",
    "# plt.ylim(ymin=0, ymax=20000)\n",
    "\n",
    "# plt.show()"
   ]
  },
  {
   "cell_type": "code",
   "execution_count": 269,
   "metadata": {
    "collapsed": false
   },
   "outputs": [
    {
     "name": "stdout",
     "output_type": "stream",
     "text": [
      "Teachers College - 121st Y: 14466.660687\n",
      "The Northern End - 125st Y: 15003.933584\n",
      "The Southern End - 59st Y: 9443.014457\n",
      "The Western End (Bay): 955.688724\n",
      "The Eastern End - Cent. Park 2282.630162\n"
     ]
    }
   ],
   "source": [
    "# Upper West Side\n",
    "print(\"Teachers College - 121st Y: %5f\" % rotateManhattanY(latm= 40.811176, lonm = -73.961526) )\n",
    "print(\"The Northern End - 125st Y: %5f\" % rotateManhattanY(latm= 40.815378, lonm = -73.958365) )\n",
    "print(\"The Southern End - 59st Y: %5f\" %  rotateManhattanY(latm= 40.771913, lonm = -73.991137) )\n",
    "print(\"The Western End (Bay): %5f\" %      rotateManhattanX(latm= 40.772487, lonm = -73.996697) )\n",
    "print(\"The Eastern End - Cent. Park %5f\"% rotateManhattanX(latm= 40.769585, lonm = -73.980830) )\n",
    "\n",
    "\n"
   ]
  },
  {
   "cell_type": "code",
   "execution_count": 51,
   "metadata": {
    "collapsed": false
   },
   "outputs": [
    {
     "name": "stdout",
     "output_type": "stream",
     "text": [
      "Times Square 8410.672915\n",
      "42st Bryant Pk8072.623159\n"
     ]
    }
   ],
   "source": [
    "print(\"Times Square %5f\"% rotateManhattanY(latm= 40.758591, lonm = -73.984795) )\n",
    "print(\"42st Bryant Pk%5f\" % rotateManhattanY(latm= 40.754822, lonm = -73.984122) )\n",
    "       "
   ]
  },
  {
   "cell_type": "code",
   "execution_count": null,
   "metadata": {
    "collapsed": true
   },
   "outputs": [],
   "source": []
  }
 ],
 "metadata": {
  "kernelspec": {
   "display_name": "Python 2",
   "language": "python",
   "name": "python2"
  },
  "language_info": {
   "codemirror_mode": {
    "name": "ipython",
    "version": 2
   },
   "file_extension": ".py",
   "mimetype": "text/x-python",
   "name": "python",
   "nbconvert_exporter": "python",
   "pygments_lexer": "ipython2",
   "version": "2.7.9"
  }
 },
 "nbformat": 4,
 "nbformat_minor": 2
}
